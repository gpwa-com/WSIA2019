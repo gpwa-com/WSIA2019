{
 "cells": [
  {
   "cell_type": "markdown",
   "metadata": {},
   "source": [
    "# Create a Loss Development Triangle"
   ]
  },
  {
   "cell_type": "markdown",
   "metadata": {},
   "source": [
    "A development triangle is a table that shows changes in the losses over time. The rows are generally the accident year and the columns are the  age (or maturity) of the cohort. The age (or maturity) is generally measured in terms of the time from the start of the cohort period."
   ]
  },
  {
   "cell_type": "markdown",
   "metadata": {},
   "source": [
    "Import pandas and numpy packages"
   ]
  },
  {
   "cell_type": "code",
   "execution_count": null,
   "metadata": {},
   "outputs": [],
   "source": [
    "import numpy as np\n",
    "import pandas as pd"
   ]
  },
  {
   "cell_type": "markdown",
   "metadata": {},
   "source": [
    "Load the input from the url below"
   ]
  },
  {
   "cell_type": "code",
   "execution_count": null,
   "metadata": {},
   "outputs": [],
   "source": [
    "# load input data\n",
    "file_url = \"https://raw.githubusercontent.com/gpwa-com/WSIA2019/master/inputs/prodliab_pos.csv\"\n",
    "claims = pd.read_csv(file_url)\n",
    "claims.head()"
   ]
  },
  {
   "cell_type": "markdown",
   "metadata": {},
   "source": [
    "The data provided has fully mature accident years. In order to test various estimation methods, we need to limit our data to, make projections and then evaluate against the actual results.\n",
    "\n",
    "Begin by limiting losses to development year less than or equal to 1997."
   ]
  },
  {
   "cell_type": "code",
   "execution_count": null,
   "metadata": {},
   "outputs": [],
   "source": [
    "partial_claims = claims[claims[\"DevelopmentYear\"] <= 1997] "
   ]
  },
  {
   "cell_type": "code",
   "execution_count": null,
   "metadata": {},
   "outputs": [],
   "source": [
    "partial_claims.pivot_table(values=\"IncurLoss_R1\", index=\"AccidentYear\", columns=\"DevelopmentLag\", aggfunc=np.sum)"
   ]
  }
 ],
 "metadata": {
  "kernelspec": {
   "display_name": "Python 3",
   "language": "python",
   "name": "python3"
  },
  "language_info": {
   "codemirror_mode": {
    "name": "ipython",
    "version": 3
   },
   "file_extension": ".py",
   "mimetype": "text/x-python",
   "name": "python",
   "nbconvert_exporter": "python",
   "pygments_lexer": "ipython3",
   "version": "3.7.4"
  }
 },
 "nbformat": 4,
 "nbformat_minor": 2
}
