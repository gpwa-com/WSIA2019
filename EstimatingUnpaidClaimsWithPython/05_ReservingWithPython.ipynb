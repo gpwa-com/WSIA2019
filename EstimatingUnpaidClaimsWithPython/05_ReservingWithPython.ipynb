{
 "cells": [
  {
   "cell_type": "markdown",
   "metadata": {},
   "source": [
    "# Reserving With Python"
   ]
  },
  {
   "cell_type": "code",
   "execution_count": null,
   "metadata": {},
   "outputs": [],
   "source": [
    "import numpy as np"
   ]
  },
  {
   "cell_type": "code",
   "execution_count": null,
   "metadata": {},
   "outputs": [],
   "source": [
    "triangle = np.array([[100,   150,     200,    220],\n",
    "                     [100,   150,     200, np.nan],\n",
    "                     [100,   150,  np.nan, np.nan],\n",
    "                     [100, np.nan, np.nan, np.nan]])\n",
    "triangle"
   ]
  },
  {
   "cell_type": "markdown",
   "metadata": {},
   "source": [
    "### Development Technique\n",
    "\n",
    "The development method estimates ultimate losses for each accident year assuming that future claims development is similar to prior years' development.\n",
    "\n",
    "The development method consists of seven basic steps:\n",
    "– Compile claims data in a development triangle\n",
    "– Calculate age-to-age factors\n",
    "– Calculate averages of the age-to-age factors\n",
    "– Select claim development factors\n",
    "– Select tail factor\n",
    "– Calculate cumulative claim development factors\n",
    "– Project ultimate claims\n",
    "\n",
    "__Step 1__\n",
    "\n",
    "Losses have already been provided in a Development Triangle\n",
    "\n",
    "__Step 2__\n",
    "\n",
    "The next step is to calculate age-to-age factors, also known as link ratios. They measure the change in recorded claims from one valuation date to the next.\n",
    "\n",
    "To calculate the age-to-age factors for the 12-month-to-24-month period, we divide the claims as of 24 months by the claims as of 12 months. Therefore, the triangle of age-to-age factors has one less row and one less column than the original data triangle."
   ]
  },
  {
   "cell_type": "code",
   "execution_count": null,
   "metadata": {},
   "outputs": [],
   "source": [
    "def calculate_age_to_age_factors(triangle):\n",
    "    pass\n",
    "\n",
    "factors = calculate_age_to_age_factors(triangle)"
   ]
  },
  {
   "cell_type": "markdown",
   "metadata": {},
   "source": [
    "__Step 3__\n",
    "\n",
    "After completing the triangle of age-to-age factors, our next step is to calculate averages of the\n",
    "age-to-age factors. Actuaries use a wide variety of averages for age-to-age factors. Some of the\n",
    "most common averages include:\n",
    "- Simple (or arithmetic) average\n",
    "- Volume-weighted average\n",
    "\n",
    "Additional averages that can be considered:\n",
    "- Medial average (average excluding high and low values)\n",
    "- Geometric average (the nth root of the product of n historical age-to-age factors)\n",
    "\n",
    "**Simple average**: The simple average is the arithmatic average of each column.\n",
    "\n",
    "**Weighted average**: The volume-weighted average is the weighted average using the amounts of reported claims (or\n",
    "paid claims) as weights. factor ay, 12-24 has weight of reported claims at age 12."
   ]
  },
  {
   "cell_type": "code",
   "execution_count": null,
   "metadata": {},
   "outputs": [],
   "source": [
    "def calculate_simple_average_age_to_age_factors(factors):\n",
    "    pass\n",
    "\n",
    "simple_average_factors = calculate_simple_average_age_to_age_factors(factors)"
   ]
  },
  {
   "cell_type": "code",
   "execution_count": null,
   "metadata": {},
   "outputs": [],
   "source": [
    "def calculate_weighted_average_age_to_age_factors(factors, triangle):\n",
    "    pass\n",
    "\n",
    "weighted_average_factors = calculate_weighted_average_age_to_age_factors(factors, triangle)"
   ]
  },
  {
   "cell_type": "markdown",
   "metadata": {},
   "source": [
    "__Step 4__\n",
    "\n",
    "The selected age-to-age factor (also referred to as the selected claim development factor or\n",
    "selected loss development factor) represents the growth anticipated in the subsequent\n",
    "development interval. When selecting claim development factors, actuaries examine the historical\n",
    "claim development data, the age-to-age factors, and the various averages of the age-to-age\n",
    "factors. It is also common practice to review the prior year’s selection of claim development\n",
    "factors"
   ]
  },
  {
   "cell_type": "code",
   "execution_count": null,
   "metadata": {},
   "outputs": [],
   "source": [
    "# selected simple average method\n",
    "selected_age_to_age_factors = simple_average_factors"
   ]
  },
  {
   "cell_type": "markdown",
   "metadata": {},
   "source": [
    "__Step 5__\n",
    "\n",
    "Sometimes the data does not provide for enough development periods. This occurs when the\n",
    "development factors for the most mature development periods available are still significantly\n",
    "greater than 1.000.41 When this occurs, the actuary will need to determine a tail factor to bring the\n",
    "claims from the latest observable development period to an ultimate value."
   ]
  },
  {
   "cell_type": "code",
   "execution_count": null,
   "metadata": {},
   "outputs": [],
   "source": [
    "# Assume losses are fully developed at the end of the development period\n",
    "TAIL = ____\n",
    "selected_age_to_age_factors = ____"
   ]
  },
  {
   "cell_type": "markdown",
   "metadata": {},
   "source": [
    "__Step 6__\n",
    "\n",
    "We calculate cumulative claim development factors by successive multiplications beginning with\n",
    "the tail factor and the oldest age-to-age factor. The cumulative claim development factor projects\n",
    "the total growth over the remaining valuations. Cumulative claim development factors are also\n",
    "known as age-to-ultimate factors and claim development factors to ultimate."
   ]
  },
  {
   "cell_type": "code",
   "execution_count": null,
   "metadata": {},
   "outputs": [],
   "source": [
    "cdf = ____"
   ]
  },
  {
   "cell_type": "markdown",
   "metadata": {},
   "source": [
    "__Step 7__\n",
    "\n",
    "Ultimate claims are equal to the product of the latest valuation of claims (the amounts shown on\n",
    "the last diagonal of the claim triangles) and the appropriate cumulative claim development\n",
    "factors."
   ]
  },
  {
   "cell_type": "code",
   "execution_count": null,
   "metadata": {},
   "outputs": [],
   "source": [
    "def project_ultimate_claims(triangle, cdf):\n",
    "    last_diagonal = np.fliplr(triangle).diagonal()\n",
    "    return last_diagonal * cdf\n",
    "\n",
    "project_ultimate_claims(triangle, cdf)"
   ]
  },
  {
   "cell_type": "markdown",
   "metadata": {},
   "source": [
    "### Model Validation"
   ]
  },
  {
   "cell_type": "code",
   "execution_count": null,
   "metadata": {},
   "outputs": [],
   "source": []
  },
  {
   "cell_type": "markdown",
   "metadata": {},
   "source": [
    "### Further Reading"
   ]
  },
  {
   "cell_type": "markdown",
   "metadata": {},
   "source": [
    "- Estimating Unpaid Claims Using Basic Techniques by Jacqueline Friedland"
   ]
  }
 ],
 "metadata": {
  "kernelspec": {
   "display_name": "Python 3",
   "language": "python",
   "name": "python3"
  },
  "language_info": {
   "codemirror_mode": {
    "name": "ipython",
    "version": 3
   },
   "file_extension": ".py",
   "mimetype": "text/x-python",
   "name": "python",
   "nbconvert_exporter": "python",
   "pygments_lexer": "ipython3",
   "version": "3.7.4"
  }
 },
 "nbformat": 4,
 "nbformat_minor": 2
}
