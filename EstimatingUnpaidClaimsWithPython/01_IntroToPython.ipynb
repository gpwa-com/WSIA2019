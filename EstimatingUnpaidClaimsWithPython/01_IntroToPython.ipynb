{
 "cells": [
  {
   "cell_type": "markdown",
   "metadata": {},
   "source": [
    "# Introduction to Python\n",
    "\n",
    "## Variables\n",
    "\n",
    "A **variable** is a name that refers to a value. Using meaningful variable names is a powerful tool for documenting what your program is doing. Variable names can be as long as you like and can contain both letters and numbers, but they can't begin with a number. There are also a set of reserved keywords that can't be used as variable names."
   ]
  },
  {
   "cell_type": "code",
   "execution_count": null,
   "metadata": {},
   "outputs": [],
   "source": [
    "# Bad\n",
    "myvar = \"Zach\"\n",
    "\n",
    "# Good\n",
    "name = \"Zach\"\n",
    "\n",
    "# Error! Variable names can't begin with a number\n",
    "#3x3_matrix = [[100, 100, 100], [200, 200, 200], [300, 300, 300]]\n",
    "\n",
    "# Works\n",
    "matrix_3x3 = [[100, 100, 100], [200, 200, 200], [300, 300, 300]]"
   ]
  },
  {
   "cell_type": "markdown",
   "metadata": {},
   "source": [
    "## Functions\n",
    "\n",
    "A **function** is an sequence of expressions that performs a computation. There are several benefits to dividing your program into functions:\n",
    "\n",
    "- Similar to variables, meaningful function names can make your program easier to read.\n",
    "- Functions make programs easier to maintain by eliminating repetitive code.\n",
    "- As your program becomes more complex, dividing your program into smaller pieces makes it easier to debug.\n",
    "\n",
    "To create a function, you begin with the `def` keyword followed by the name of your function and a sequence of parameters to your function."
   ]
  },
  {
   "cell_type": "code",
   "execution_count": null,
   "metadata": {},
   "outputs": [],
   "source": [
    "def greet(name):\n",
    "    print(\"Hello, \" + name + \"!\")\n",
    "    \n",
    "greet(\"WSIA 2019\")"
   ]
  },
  {
   "cell_type": "markdown",
   "metadata": {},
   "source": [
    "## Loops\n",
    "\n",
    "A `for` statement is also called a loop because the flow of execution runs through the body and then loops back to the top. "
   ]
  },
  {
   "cell_type": "code",
   "execution_count": null,
   "metadata": {},
   "outputs": [],
   "source": [
    "exams = [\n",
    "    'P',\n",
    "    'IFM',\n",
    "    'MFE',\n",
    "    'MAS-I',\n",
    "    'MAS-II',\n",
    "    '5',\n",
    "    '6',\n",
    "    '7',\n",
    "    '8',\n",
    "    '9',\n",
    "]\n",
    "\n",
    "for exam in exams:\n",
    "    print(f\"I just passed exam {exam}!\")"
   ]
  },
  {
   "cell_type": "markdown",
   "metadata": {},
   "source": [
    "## Further Reading\n",
    "- Python Documentation\n",
    "- [Think Python](http://greenteapress.com/thinkpython/html/index.html)"
   ]
  }
 ],
 "metadata": {
  "kernelspec": {
   "display_name": "Python 3",
   "language": "python",
   "name": "python3"
  },
  "language_info": {
   "codemirror_mode": {
    "name": "ipython",
    "version": 3
   },
   "file_extension": ".py",
   "mimetype": "text/x-python",
   "name": "python",
   "nbconvert_exporter": "python",
   "pygments_lexer": "ipython3",
   "version": "3.7.4"
  }
 },
 "nbformat": 4,
 "nbformat_minor": 2
}
