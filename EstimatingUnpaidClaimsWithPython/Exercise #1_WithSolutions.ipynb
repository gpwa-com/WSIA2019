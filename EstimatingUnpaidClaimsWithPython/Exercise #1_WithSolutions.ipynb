{
 "cells": [
  {
   "cell_type": "markdown",
   "metadata": {},
   "source": [
    "# Exercises"
   ]
  },
  {
   "cell_type": "markdown",
   "metadata": {},
   "source": [
    "1. Create a variable `name` with your name."
   ]
  },
  {
   "cell_type": "code",
   "execution_count": 1,
   "metadata": {},
   "outputs": [],
   "source": [
    "name = 'Zach'"
   ]
  },
  {
   "cell_type": "markdown",
   "metadata": {},
   "source": [
    "2. Create a variable named `age` with an age."
   ]
  },
  {
   "cell_type": "code",
   "execution_count": 2,
   "metadata": {},
   "outputs": [],
   "source": [
    "age = 28"
   ]
  },
  {
   "cell_type": "markdown",
   "metadata": {},
   "source": [
    "3. Create a function `calculate_premium` that takes two arguments, name and age. If the driver is younger 25, then the premium should be \\\\$100, and if the driver is 25 or older, then the premium should be \\\\$75. The result should look like\n",
    "\n",
    "```\n",
    ">>> calculate_premium(name='Zach', age=28)\n",
    "Zach's premium is $75\n",
    "```"
   ]
  },
  {
   "cell_type": "code",
   "execution_count": 3,
   "metadata": {},
   "outputs": [],
   "source": [
    "def calculate_premium(name, age):\n",
    "    if age < 25:\n",
    "        premium = 100\n",
    "    else:\n",
    "        premium = 75\n",
    "        \n",
    "    print(f\"{name}'s premium is ${premium}\")"
   ]
  },
  {
   "cell_type": "code",
   "execution_count": 4,
   "metadata": {},
   "outputs": [
    {
     "name": "stdout",
     "output_type": "stream",
     "text": [
      "Zach's premium is $75\n"
     ]
    }
   ],
   "source": [
    "calculate_premium(name='Zach', age=28)"
   ]
  },
  {
   "cell_type": "markdown",
   "metadata": {},
   "source": [
    "4. **BONUS** Create a list of names and a list of ages (lists should be the same size). Create a function, `calculate_premiums`, that takes two lists, `names`, `ages` as arguments, and prints the same statement as `calculate_premium` for each name, age pair."
   ]
  },
  {
   "cell_type": "code",
   "execution_count": 5,
   "metadata": {},
   "outputs": [],
   "source": [
    "names = ['Zach', 'Megan', 'Sam']\n",
    "ages = [28, 28, 16]\n",
    "\n",
    "def calculate_premiums(names, ages):\n",
    "    for i, name in enumerate(names):\n",
    "        calculate_premium(name, ages[i])"
   ]
  },
  {
   "cell_type": "code",
   "execution_count": 6,
   "metadata": {},
   "outputs": [
    {
     "name": "stdout",
     "output_type": "stream",
     "text": [
      "Zach's premium is $75\n",
      "Megan's premium is $75\n",
      "Sam's premium is $100\n"
     ]
    }
   ],
   "source": [
    "calculate_premiums(names, ages)"
   ]
  }
 ],
 "metadata": {
  "kernelspec": {
   "display_name": "Python 3",
   "language": "python",
   "name": "python3"
  },
  "language_info": {
   "codemirror_mode": {
    "name": "ipython",
    "version": 3
   },
   "file_extension": ".py",
   "mimetype": "text/x-python",
   "name": "python",
   "nbconvert_exporter": "python",
   "pygments_lexer": "ipython3",
   "version": "3.7.4"
  }
 },
 "nbformat": 4,
 "nbformat_minor": 2
}
