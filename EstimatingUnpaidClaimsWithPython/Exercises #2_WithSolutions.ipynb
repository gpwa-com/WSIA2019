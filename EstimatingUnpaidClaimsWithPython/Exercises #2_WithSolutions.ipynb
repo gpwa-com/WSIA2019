{
 "cells": [
  {
   "cell_type": "markdown",
   "metadata": {},
   "source": [
    "# Numpy and Pandas Exercises"
   ]
  },
  {
   "cell_type": "markdown",
   "metadata": {},
   "source": [
    "Import the pandas and numpy packages"
   ]
  },
  {
   "cell_type": "code",
   "execution_count": 1,
   "metadata": {},
   "outputs": [],
   "source": [
    "import numpy as np\n",
    "import pandas as pd"
   ]
  },
  {
   "cell_type": "markdown",
   "metadata": {},
   "source": [
    "Load sample data into a dataframe using the link provided"
   ]
  },
  {
   "cell_type": "code",
   "execution_count": 7,
   "metadata": {},
   "outputs": [
    {
     "data": {
      "text/html": [
       "<div>\n",
       "<style scoped>\n",
       "    .dataframe tbody tr th:only-of-type {\n",
       "        vertical-align: middle;\n",
       "    }\n",
       "\n",
       "    .dataframe tbody tr th {\n",
       "        vertical-align: top;\n",
       "    }\n",
       "\n",
       "    .dataframe thead th {\n",
       "        text-align: right;\n",
       "    }\n",
       "</style>\n",
       "<table border=\"1\" class=\"dataframe\">\n",
       "  <thead>\n",
       "    <tr style=\"text-align: right;\">\n",
       "      <th></th>\n",
       "      <th>GRCODE</th>\n",
       "      <th>GRNAME</th>\n",
       "      <th>AccidentYear</th>\n",
       "      <th>DevelopmentYear</th>\n",
       "      <th>DevelopmentLag</th>\n",
       "      <th>IncurLoss_R1</th>\n",
       "      <th>CumPaidLoss_R1</th>\n",
       "      <th>BulkLoss_R1</th>\n",
       "      <th>EarnedPremDIR_R1</th>\n",
       "      <th>EarnedPremCeded_R1</th>\n",
       "      <th>EarnedPremNet_R1</th>\n",
       "      <th>Single</th>\n",
       "      <th>PostedReserve97_R1</th>\n",
       "    </tr>\n",
       "  </thead>\n",
       "  <tbody>\n",
       "    <tr>\n",
       "      <td>0</td>\n",
       "      <td>78</td>\n",
       "      <td>Federated Mut Grp</td>\n",
       "      <td>1988</td>\n",
       "      <td>1988</td>\n",
       "      <td>1</td>\n",
       "      <td>29483</td>\n",
       "      <td>3894</td>\n",
       "      <td>18410</td>\n",
       "      <td>29513</td>\n",
       "      <td>0</td>\n",
       "      <td>29513</td>\n",
       "      <td>0</td>\n",
       "      <td>86660</td>\n",
       "    </tr>\n",
       "    <tr>\n",
       "      <td>1</td>\n",
       "      <td>78</td>\n",
       "      <td>Federated Mut Grp</td>\n",
       "      <td>1988</td>\n",
       "      <td>1989</td>\n",
       "      <td>2</td>\n",
       "      <td>28826</td>\n",
       "      <td>7409</td>\n",
       "      <td>13495</td>\n",
       "      <td>29513</td>\n",
       "      <td>0</td>\n",
       "      <td>29513</td>\n",
       "      <td>0</td>\n",
       "      <td>86660</td>\n",
       "    </tr>\n",
       "    <tr>\n",
       "      <td>2</td>\n",
       "      <td>78</td>\n",
       "      <td>Federated Mut Grp</td>\n",
       "      <td>1988</td>\n",
       "      <td>1990</td>\n",
       "      <td>3</td>\n",
       "      <td>27063</td>\n",
       "      <td>11199</td>\n",
       "      <td>7770</td>\n",
       "      <td>29513</td>\n",
       "      <td>0</td>\n",
       "      <td>29513</td>\n",
       "      <td>0</td>\n",
       "      <td>86660</td>\n",
       "    </tr>\n",
       "    <tr>\n",
       "      <td>3</td>\n",
       "      <td>78</td>\n",
       "      <td>Federated Mut Grp</td>\n",
       "      <td>1988</td>\n",
       "      <td>1991</td>\n",
       "      <td>4</td>\n",
       "      <td>26001</td>\n",
       "      <td>16913</td>\n",
       "      <td>4721</td>\n",
       "      <td>29513</td>\n",
       "      <td>0</td>\n",
       "      <td>29513</td>\n",
       "      <td>0</td>\n",
       "      <td>86660</td>\n",
       "    </tr>\n",
       "    <tr>\n",
       "      <td>4</td>\n",
       "      <td>78</td>\n",
       "      <td>Federated Mut Grp</td>\n",
       "      <td>1988</td>\n",
       "      <td>1992</td>\n",
       "      <td>5</td>\n",
       "      <td>24614</td>\n",
       "      <td>18517</td>\n",
       "      <td>2984</td>\n",
       "      <td>29513</td>\n",
       "      <td>0</td>\n",
       "      <td>29513</td>\n",
       "      <td>0</td>\n",
       "      <td>86660</td>\n",
       "    </tr>\n",
       "  </tbody>\n",
       "</table>\n",
       "</div>"
      ],
      "text/plain": [
       "   GRCODE             GRNAME  AccidentYear  DevelopmentYear  DevelopmentLag  \\\n",
       "0      78  Federated Mut Grp          1988             1988               1   \n",
       "1      78  Federated Mut Grp          1988             1989               2   \n",
       "2      78  Federated Mut Grp          1988             1990               3   \n",
       "3      78  Federated Mut Grp          1988             1991               4   \n",
       "4      78  Federated Mut Grp          1988             1992               5   \n",
       "\n",
       "   IncurLoss_R1  CumPaidLoss_R1  BulkLoss_R1  EarnedPremDIR_R1  \\\n",
       "0         29483            3894        18410             29513   \n",
       "1         28826            7409        13495             29513   \n",
       "2         27063           11199         7770             29513   \n",
       "3         26001           16913         4721             29513   \n",
       "4         24614           18517         2984             29513   \n",
       "\n",
       "   EarnedPremCeded_R1  EarnedPremNet_R1  Single  PostedReserve97_R1  \n",
       "0                   0             29513       0               86660  \n",
       "1                   0             29513       0               86660  \n",
       "2                   0             29513       0               86660  \n",
       "3                   0             29513       0               86660  \n",
       "4                   0             29513       0               86660  "
      ]
     },
     "execution_count": 7,
     "metadata": {},
     "output_type": "execute_result"
    }
   ],
   "source": [
    "claims_url = \"https://raw.githubusercontent.com/gpwa-com/WSIA2019/master/inputs/exercise_2_claims.csv\"\n",
    "claims = pd.read_csv(claims_url)\n",
    "claims.head()"
   ]
  },
  {
   "cell_type": "markdown",
   "metadata": {},
   "source": [
    "1. How many observations are in our table?"
   ]
  },
  {
   "cell_type": "code",
   "execution_count": 3,
   "metadata": {},
   "outputs": [
    {
     "data": {
      "text/plain": [
       "policy    10\n",
       "type      10\n",
       "claim     10\n",
       "dtype: int64"
      ]
     },
     "execution_count": 3,
     "metadata": {},
     "output_type": "execute_result"
    }
   ],
   "source": [
    "claims.count()"
   ]
  },
  {
   "cell_type": "markdown",
   "metadata": {},
   "source": [
    "2. What is the average claim amount?"
   ]
  },
  {
   "cell_type": "code",
   "execution_count": 4,
   "metadata": {},
   "outputs": [
    {
     "data": {
      "text/plain": [
       "300543.4"
      ]
     },
     "execution_count": 4,
     "metadata": {},
     "output_type": "execute_result"
    }
   ],
   "source": [
    "claims[\"claim\"].mean()"
   ]
  },
  {
   "cell_type": "markdown",
   "metadata": {},
   "source": [
    "3. What is the most common claim type?"
   ]
  },
  {
   "cell_type": "code",
   "execution_count": 5,
   "metadata": {},
   "outputs": [
    {
     "data": {
      "text/plain": [
       "Design Defect           4\n",
       "Marketing Defect        3\n",
       "Manufacturing Defect    3\n",
       "Name: type, dtype: int64"
      ]
     },
     "execution_count": 5,
     "metadata": {},
     "output_type": "execute_result"
    }
   ],
   "source": [
    "claims[\"type\"].value_counts()"
   ]
  },
  {
   "cell_type": "markdown",
   "metadata": {},
   "source": [
    "4. Select just the records associated with policy 4"
   ]
  },
  {
   "cell_type": "code",
   "execution_count": 6,
   "metadata": {},
   "outputs": [
    {
     "data": {
      "text/html": [
       "<div>\n",
       "<style scoped>\n",
       "    .dataframe tbody tr th:only-of-type {\n",
       "        vertical-align: middle;\n",
       "    }\n",
       "\n",
       "    .dataframe tbody tr th {\n",
       "        vertical-align: top;\n",
       "    }\n",
       "\n",
       "    .dataframe thead th {\n",
       "        text-align: right;\n",
       "    }\n",
       "</style>\n",
       "<table border=\"1\" class=\"dataframe\">\n",
       "  <thead>\n",
       "    <tr style=\"text-align: right;\">\n",
       "      <th></th>\n",
       "      <th>policy</th>\n",
       "      <th>type</th>\n",
       "      <th>claim</th>\n",
       "    </tr>\n",
       "  </thead>\n",
       "  <tbody>\n",
       "    <tr>\n",
       "      <td>7</td>\n",
       "      <td>4</td>\n",
       "      <td>Design Defect</td>\n",
       "      <td>251113</td>\n",
       "    </tr>\n",
       "    <tr>\n",
       "      <td>8</td>\n",
       "      <td>4</td>\n",
       "      <td>Design Defect</td>\n",
       "      <td>620587</td>\n",
       "    </tr>\n",
       "    <tr>\n",
       "      <td>9</td>\n",
       "      <td>4</td>\n",
       "      <td>Marketing Defect</td>\n",
       "      <td>387841</td>\n",
       "    </tr>\n",
       "  </tbody>\n",
       "</table>\n",
       "</div>"
      ],
      "text/plain": [
       "   policy              type   claim\n",
       "7       4     Design Defect  251113\n",
       "8       4     Design Defect  620587\n",
       "9       4  Marketing Defect  387841"
      ]
     },
     "execution_count": 6,
     "metadata": {},
     "output_type": "execute_result"
    }
   ],
   "source": [
    "claims.loc[claims[\"policy\"] == 4]"
   ]
  },
  {
   "cell_type": "markdown",
   "metadata": {},
   "source": [
    "5. What the total claims paid by policy?"
   ]
  },
  {
   "cell_type": "code",
   "execution_count": null,
   "metadata": {},
   "outputs": [],
   "source": [
    "claims.pivot_table(values=\"claim\", index=\"policy\", aggfunc=np.sum)"
   ]
  }
 ],
 "metadata": {
  "kernelspec": {
   "display_name": "Python 3",
   "language": "python",
   "name": "python3"
  },
  "language_info": {
   "codemirror_mode": {
    "name": "ipython",
    "version": 3
   },
   "file_extension": ".py",
   "mimetype": "text/x-python",
   "name": "python",
   "nbconvert_exporter": "python",
   "pygments_lexer": "ipython3",
   "version": "3.7.4"
  }
 },
 "nbformat": 4,
 "nbformat_minor": 2
}
